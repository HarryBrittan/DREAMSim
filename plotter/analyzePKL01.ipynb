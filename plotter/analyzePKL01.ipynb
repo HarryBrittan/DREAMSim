{
 "cells": [
  {
   "cell_type": "code",
   "execution_count": 1,
   "id": "7a249f37-3d11-4ab1-a18a-f991ff3c069c",
   "metadata": {},
   "outputs": [
    {
     "name": "stdout",
     "output_type": "stream",
     "text": [
      "Welcome to JupyROOT 6.30/04\n"
     ]
    }
   ],
   "source": [
    "import sys\n",
    "import numpy as np\n",
    "import matplotlib.pyplot as plt\n",
    "import math\n",
    "import csv\n",
    "import ROOT\n",
    "import pickle\n",
    "from scipy import interpolate\n",
    "\n",
    "import tb2024a as tb\n"
   ]
  },
  {
   "cell_type": "code",
   "execution_count": 2,
   "id": "462bb7cf-5904-41bd-b8a8-3e53e924f617",
   "metadata": {},
   "outputs": [
    {
     "name": "stdout",
     "output_type": "stream",
     "text": [
      "dfmain dict_keys([0, 1, 2, 3, 4, 5, 6, 7, 8, 9])\n",
      "0 df dict_keys(['event', 'g4hit3dCC', 'g4hit3dSS', 'g4hit2dCC', 'g4hit2dSS', 'drsCC'])\n",
      "1 df dict_keys(['event', 'g4hit3dCC', 'g4hit3dSS', 'g4hit2dCC', 'g4hit2dSS', 'drsCC'])\n",
      "2 df dict_keys(['event', 'g4hit3dCC', 'g4hit3dSS', 'g4hit2dCC', 'g4hit2dSS', 'drsCC'])\n",
      "3 df dict_keys(['event', 'g4hit3dCC', 'g4hit3dSS', 'g4hit2dCC', 'g4hit2dSS', 'drsCC'])\n",
      "4 df dict_keys(['event', 'g4hit3dCC', 'g4hit3dSS', 'g4hit2dCC', 'g4hit2dSS', 'drsCC'])\n",
      "5 df dict_keys(['event', 'g4hit3dCC', 'g4hit3dSS', 'g4hit2dCC', 'g4hit2dSS', 'drsCC'])\n",
      "6 df dict_keys(['event', 'g4hit3dCC', 'g4hit3dSS', 'g4hit2dCC', 'g4hit2dSS', 'drsCC'])\n",
      "7 df dict_keys(['event', 'g4hit3dCC', 'g4hit3dSS', 'g4hit2dCC', 'g4hit2dSS', 'drsCC'])\n",
      "8 df dict_keys(['event', 'g4hit3dCC', 'g4hit3dSS', 'g4hit2dCC', 'g4hit2dSS', 'drsCC'])\n",
      "9 df dict_keys(['event', 'g4hit3dCC', 'g4hit3dSS', 'g4hit2dCC', 'g4hit2dSS', 'drsCC'])\n"
     ]
    }
   ],
   "source": [
    "dfmain={}    # for wave form from pickle file\n",
    "with open('pkl_pi+100.pkl','rb') as fp: \n",
    "    dfmain = pickle.load(fp)\n",
    "\n",
    "print(\"dfmain\",dfmain.keys())\n",
    "\n",
    "for i, k in enumerate(dfmain.keys()):\n",
    "    df=dfmain[k]\n",
    "    print(k,\"df\",df.keys())\n",
    "    \n",
    "\n"
   ]
  },
  {
   "cell_type": "code",
   "execution_count": 3,
   "id": "40830de1-6ee4-4c92-813d-6d317185e779",
   "metadata": {},
   "outputs": [
    {
     "name": "stdout",
     "output_type": "stream",
     "text": [
      "def analyzeOneEvent.  event number= 0\n",
      "event {'dataset': 'pi+100', 'calibSS': 54.794519116270536, 'calibCC': 0.021547080370609782, 'beamID': 211, 'beamType': 'pi+', 'beamE': 100000.0, 'beamX': 29.0213623046875, 'beamY': -1050.0}\n",
      "g4hit3dCC dict_keys(['nhits', 'id', 'val', 'sum'])\n",
      "g4hit3dCC,  len(id) 719    id[0]  240120139    (id=XXXYYYZZZ)\n",
      "g4hit3dCC  ix,iy,it,val[0]  240 120 139 2.0\n"
     ]
    }
   ],
   "source": [
    "def analyzeOneEvent(k,dfmain):\n",
    "    print(\"def analyzeOneEvent.  event number=\",k)\n",
    "    print(\"event\",dfmain[k][\"event\"])\n",
    "    print(\"g4hit3dCC\",dfmain[k][\"g4hit3dCC\"].keys())\n",
    "    # print(\"g4hit3dCC,id\",dfmain[k][\"g4hit3dCC\"][\"id\"][0])\n",
    "    id=dfmain[k][\"g4hit3dCC\"][\"id\"]\n",
    "    print(\"g4hit3dCC,  len(id)\",len(id),\"   id[0] \",id[0],\"   (id=XXXYYYZZZ)\")\n",
    "    ix=np.array(id/1000000,dtype=int)\n",
    "    iy=np.array((id/1000)%1000,dtype=int)\n",
    "    it=np.array(id%1000,dtype=int)\n",
    "    val=dfmain[k][\"g4hit3dCC\"][\"val\"]\n",
    "    print(\"g4hit3dCC  ix,iy,it,val[0] \",ix[0],iy[0],it[0],val[0])\n",
    "\n",
    "analyzeOneEvent(0,dfmain)"
   ]
  },
  {
   "cell_type": "code",
   "execution_count": null,
   "id": "f9a1988c-9ad8-4a65-8d06-276ff797f646",
   "metadata": {},
   "outputs": [],
   "source": []
  }
 ],
 "metadata": {
  "kernelspec": {
   "display_name": "Python 3 (ipykernel)",
   "language": "python",
   "name": "python3"
  },
  "language_info": {
   "codemirror_mode": {
    "name": "ipython",
    "version": 3
   },
   "file_extension": ".py",
   "mimetype": "text/x-python",
   "name": "python",
   "nbconvert_exporter": "python",
   "pygments_lexer": "ipython3",
   "version": "3.11.7"
  }
 },
 "nbformat": 4,
 "nbformat_minor": 5
}
